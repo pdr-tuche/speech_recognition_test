{
  "nbformat": 4,
  "nbformat_minor": 0,
  "metadata": {
    "colab": {
      "provenance": [],
      "authorship_tag": "ABX9TyOLnX4bR5UhOBNvoY3NYHRQ",
      "include_colab_link": true
    },
    "kernelspec": {
      "name": "python3",
      "display_name": "Python 3"
    },
    "language_info": {
      "name": "python"
    }
  },
  "cells": [
    {
      "cell_type": "markdown",
      "metadata": {
        "id": "view-in-github",
        "colab_type": "text"
      },
      "source": [
        "<a href=\"https://colab.research.google.com/github/pdr-tuche/speech_recognition_test/blob/main/speech_recognition_test.ipynb\" target=\"_parent\"><img src=\"https://colab.research.google.com/assets/colab-badge.svg\" alt=\"Open In Colab\"/></a>"
      ]
    },
    {
      "cell_type": "code",
      "source": [
        "pip install SpeechRecognition"
      ],
      "metadata": {
        "colab": {
          "base_uri": "https://localhost:8080/"
        },
        "id": "ovnx0qGzpTsR",
        "outputId": "3aae76f0-cb6d-401a-dde1-68e37adda98d"
      },
      "execution_count": 1,
      "outputs": [
        {
          "output_type": "stream",
          "name": "stdout",
          "text": [
            "Looking in indexes: https://pypi.org/simple, https://us-python.pkg.dev/colab-wheels/public/simple/\n",
            "Requirement already satisfied: SpeechRecognition in /usr/local/lib/python3.10/dist-packages (3.10.0)\n",
            "Requirement already satisfied: requests>=2.26.0 in /usr/local/lib/python3.10/dist-packages (from SpeechRecognition) (2.27.1)\n",
            "Requirement already satisfied: urllib3<1.27,>=1.21.1 in /usr/local/lib/python3.10/dist-packages (from requests>=2.26.0->SpeechRecognition) (1.26.15)\n",
            "Requirement already satisfied: certifi>=2017.4.17 in /usr/local/lib/python3.10/dist-packages (from requests>=2.26.0->SpeechRecognition) (2022.12.7)\n",
            "Requirement already satisfied: charset-normalizer~=2.0.0 in /usr/local/lib/python3.10/dist-packages (from requests>=2.26.0->SpeechRecognition) (2.0.12)\n",
            "Requirement already satisfied: idna<4,>=2.5 in /usr/local/lib/python3.10/dist-packages (from requests>=2.26.0->SpeechRecognition) (3.4)\n"
          ]
        }
      ]
    },
    {
      "cell_type": "code",
      "source": [
        "pip install pydub\n"
      ],
      "metadata": {
        "colab": {
          "base_uri": "https://localhost:8080/"
        },
        "id": "tBrLXvIdtTFz",
        "outputId": "933cff29-7990-4e00-81ac-445c46bbe25c"
      },
      "execution_count": 2,
      "outputs": [
        {
          "output_type": "stream",
          "name": "stdout",
          "text": [
            "Looking in indexes: https://pypi.org/simple, https://us-python.pkg.dev/colab-wheels/public/simple/\n",
            "Requirement already satisfied: pydub in /usr/local/lib/python3.10/dist-packages (0.25.1)\n"
          ]
        }
      ]
    },
    {
      "cell_type": "code",
      "execution_count": 4,
      "metadata": {
        "id": "i0VhY3vLpP0N",
        "colab": {
          "base_uri": "https://localhost:8080/"
        },
        "outputId": "454f0fb7-2336-4f21-bd34-1d5a228f3448"
      },
      "outputs": [
        {
          "output_type": "stream",
          "name": "stdout",
          "text": [
            "Texto transcrito: Olá isso aqui é um áudio de teste para poder utilizar no projeto\n"
          ]
        }
      ],
      "source": [
        "import speech_recognition as sr\n",
        "from pydub import AudioSegment\n",
        "\n",
        "#convertendo tipo de audio para wav\n",
        "sound = AudioSegment.from_file(\"/content/WhatsApp Ptt 2023-05-11 at 18.36.12.ogg\", format=\"ogg\") #pode ser usado algum algoritimo com split para pegar a extensao do audio e passar a variavel para o format\n",
        "sound.export(\"teste.wav\", format=\"wav\")\n",
        "# esta salvando o arquivo no mesmo local do script, talvez seja melhor fazer essa conversao no front ?\n",
        "\n",
        "r = sr.Recognizer()\n",
        "\n",
        "# carregando o arquivo .wav\n",
        "with sr.AudioFile('teste.wav') as source:\n",
        "    audio = r.record(source)\n",
        "\n",
        "# usando o Google Speech Recognition para transcrever o áudio\n",
        "try:\n",
        "    text = r.recognize_google(audio, language='pt-BR')\n",
        "    print(\"Texto transcrito:\", text)\n",
        "except sr.UnknownValueError:\n",
        "    print(\"Não foi possível transcrever o áudio\")\n",
        "except sr.RequestError as e:\n",
        "    print(\"Não foi possível transcrever o áudio; {0}\".format(e))\n"
      ]
    }
  ]
}